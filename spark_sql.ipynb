{
 "cells": [
  {
   "cell_type": "code",
   "execution_count": 33,
   "id": "af7e0615-2557-4cc3-8cdc-8f8f9bf021a3",
   "metadata": {},
   "outputs": [
    {
     "name": "stderr",
     "output_type": "stream",
     "text": [
      "[Stage 12:>                                                         (0 + 4) / 4]"
     ]
    }
   ],
   "source": [
    "from pyspark.sql import SparkSession\n",
    "from pyspark.sql.functions import col\n",
    "from pyspark.sql.types import BooleanType\n",
    "from pyspark.sql.functions import udf\n",
    "from pyspark.sql.types import BooleanType\n",
    "from pyspark.sql.functions import pandas_udf\n",
    "\n",
    "from models.cnn import CNN\n",
    "\n",
    "import base64\n",
    "import io\n",
    "from PIL import Image\n",
    "import numpy as np\n",
    "import pandas as pd\n",
    "import torch"
   ]
  },
  {
   "cell_type": "code",
   "execution_count": 1,
   "id": "ec11c1e1-d054-4511-ba14-5974430fd7c5",
   "metadata": {},
   "outputs": [],
   "source": [
    "MODEL_PATH_PYTORCH = \"models/fraud_cnn.pt\"\n",
    "MODEL_PATH_TENSORFLOW = \"models/efficientNet.h5\""
   ]
  },
  {
   "cell_type": "markdown",
   "id": "36ce854d-0c81-45dd-a118-078ac10232d1",
   "metadata": {},
   "source": [
    "## Create Spark session and load data"
   ]
  },
  {
   "cell_type": "code",
   "execution_count": 15,
   "id": "064fd290-9dce-44f9-a3c2-e8e46bb7ecc5",
   "metadata": {},
   "outputs": [],
   "source": [
    "spark = SparkSession.builder.appName(\"FraudModelInference_Tables\").getOrCreate()"
   ]
  },
  {
   "cell_type": "code",
   "execution_count": 16,
   "id": "d1b680b5-7f9f-4201-a559-387d10663c59",
   "metadata": {},
   "outputs": [],
   "source": [
    "idimage_df = spark.read.option(\"header\", True).csv(\"data/idimage_fixed.csv\")\n",
    "idlabel_df = spark.read.option(\"header\", True).csv(\"data/idlabel.csv\")\n",
    "idmeta_df = spark.read.option(\"header\", True).csv(\"data/idmeta.csv\")  \n",
    "#spark action"
   ]
  },
  {
   "cell_type": "code",
   "execution_count": 17,
   "id": "bd5b6c34-390c-4507-9aa7-645e4181e4d9",
   "metadata": {},
   "outputs": [],
   "source": [
    "#change isfraud column datatype to Bool\n",
    "idlabel_df = idlabel_df.withColumn(\"isfraud\", col(\"isfraud\").cast(BooleanType()))   #Transformation\n"
   ]
  },
  {
   "cell_type": "markdown",
   "id": "0eaad2b0-0f0d-4a9c-9e90-0004fb3b631d",
   "metadata": {},
   "source": [
    "# Register all tables"
   ]
  },
  {
   "cell_type": "code",
   "execution_count": 18,
   "id": "9e6d2ce2-1321-48c3-a98e-66cf9a486bec",
   "metadata": {},
   "outputs": [],
   "source": [
    "idimage_df.createOrReplaceTempView(\"idimage\")\n",
    "idlabel_df.createOrReplaceTempView(\"idlabel\")\n",
    "idmeta_df.createOrReplaceTempView(\"idmeta\")"
   ]
  },
  {
   "cell_type": "markdown",
   "id": "5b43fde8-ce0b-4fda-a8ce-104417af86b8",
   "metadata": {},
   "source": [
    "# Load model from saved weights (CNN(100), EfficientNet (81%))"
   ]
  },
  {
   "cell_type": "code",
   "execution_count": 19,
   "id": "b87ae0a9-3de8-4f08-93d7-6a8ba1916868",
   "metadata": {},
   "outputs": [
    {
     "name": "stdout",
     "output_type": "stream",
     "text": [
      "Select which model you want to load:\n",
      "1. PyTorch CNN (.pt file)\n",
      "2. Keras Model (.h5 file)\n"
     ]
    },
    {
     "name": "stdin",
     "output_type": "stream",
     "text": [
      "Enter 1 or 2:  1\n"
     ]
    },
    {
     "name": "stdout",
     "output_type": "stream",
     "text": [
      "PyTorch CNN model loaded successfully.\n"
     ]
    }
   ],
   "source": [
    "print(\"Select which model you want to load:\")\n",
    "print(\"1. PyTorch CNN (.pt file)\")\n",
    "print(\"2. Keras Model (.h5 file)\")\n",
    "\n",
    "model_choice = input(\"Enter 1 or 2: \").strip()\n",
    "\n",
    "model = None  \n",
    "\n",
    "if model_choice == '1':\n",
    "    try:\n",
    "        model = CNN()\n",
    "        model.load_state_dict(torch.load(MODEL_PATH_PYTORCH, map_location=torch.device('cpu')))\n",
    "        model.eval()\n",
    "        print(\"PyTorch CNN model loaded successfully.\")\n",
    "    except Exception as e:\n",
    "        print(f\"Error loading PyTorch model: {e}\")\n",
    "        model = None\n",
    "\n",
    "elif model_choice == '2':\n",
    "    try:\n",
    "        model = load_model(MODEL_PATH_KERAS)\n",
    "        print(\"Keras model loaded successfully.\")\n",
    "    except Exception as e:\n",
    "        print(f\"Error loading Keras model: {e}\")\n",
    "        model = None\n",
    "\n",
    "else:\n",
    "    print(\"Invalid input. Please enter 1 or 2.\")\n",
    "    model = None"
   ]
  },
  {
   "cell_type": "markdown",
   "id": "56312250-9a57-45bb-8740-9b6767a0a2bd",
   "metadata": {},
   "source": [
    "Function to preprocess imagepath before sending it to model for input"
   ]
  },
  {
   "cell_type": "code",
   "execution_count": 21,
   "id": "9df582c4-abce-482c-9262-3ce02ccd027b",
   "metadata": {},
   "outputs": [],
   "source": [
    "def preprocess_image(base64_str):\n",
    "    try:\n",
    "        image_data = base64.b64decode(base64_str)\n",
    "        image = Image.open(io.BytesIO(image_data)).convert(\"RGB\")\n",
    "        image = image.resize((128, 128))  \n",
    "        image_array = np.array(image) / 255.0  # Normalize\n",
    "        image_array = np.expand_dims(image_array, axis=0)  # Add batch dim\n",
    "        image_array = image_array.transpose((0, 3, 1, 2)) \n",
    "        image_tensor = torch.from_numpy(image_array).float()\n",
    "        \n",
    "        return image_tensor\n",
    "\n",
    "    except Exception as e:\n",
    "        print(f\"Preprocessing failed: {e}\")\n",
    "        return None\n"
   ]
  },
  {
   "cell_type": "markdown",
   "id": "18253e2e-2241-4fc0-a7c3-3f0bc99de5cc",
   "metadata": {},
   "source": [
    "DEFINING an REGISTERING UDF in SPARK"
   ]
  },
  {
   "cell_type": "code",
   "execution_count": 24,
   "id": "c154803b-ccae-4b2c-a64a-5bd836dc1159",
   "metadata": {},
   "outputs": [],
   "source": [
    "def fraud_detector(base64_str):\n",
    "    if model is None:\n",
    "        print(\"Model not loaded, cannot perform prediction.\")\n",
    "        return False \n",
    "\n",
    "    image_tensor = preprocess_image(base64_str)\n",
    "    if image_tensor is None:\n",
    "        return False\n",
    "    try:\n",
    "        with torch.no_grad():\n",
    "            prediction = model(image_tensor)\n",
    "        \n",
    "        return bool(prediction[0][0] > 0.5)  \n",
    "    except Exception as e:\n",
    "        print(f\"Prediction failed: {e}\")\n",
    "        return False\n",
    "\n",
    "\n"
   ]
  },
  {
   "cell_type": "code",
   "execution_count": 27,
   "id": "46f4eb08-744d-4ff0-930b-6c8e8bfe9226",
   "metadata": {},
   "outputs": [
    {
     "data": {
      "text/plain": [
       "<function __main__.fraud_detector(base64_str)>"
      ]
     },
     "execution_count": 27,
     "metadata": {},
     "output_type": "execute_result"
    }
   ],
   "source": [
    "fraud_udf = udf(fraud_detector, BooleanType())\n",
    "spark.udf.register(\"cnn_fraud_udf\", fraud_detector, BooleanType())"
   ]
  },
  {
   "cell_type": "markdown",
   "id": "3757b25d-fe44-4ff7-b98a-719fd709e731",
   "metadata": {},
   "source": [
    "# Schema of tables"
   ]
  },
  {
   "cell_type": "markdown",
   "id": "c5f61fa8-5290-42c2-8b20-41e6acccaa04",
   "metadata": {},
   "source": [
    "idimage"
   ]
  },
  {
   "cell_type": "code",
   "execution_count": 28,
   "id": "7287a335-2d2b-47d3-a37b-357b7026bdfe",
   "metadata": {},
   "outputs": [
    {
     "name": "stdout",
     "output_type": "stream",
     "text": [
      "root\n",
      " |-- name: string (nullable = true)\n",
      " |-- imageData: string (nullable = true)\n",
      "\n"
     ]
    }
   ],
   "source": [
    "idimage_schema = spark.sql(\"\"\"\n",
    "    SELECT * FROM idimage LIMIT 0;\n",
    "\"\"\")\n",
    "\n",
    "idimage_schema.printSchema()\n"
   ]
  },
  {
   "cell_type": "markdown",
   "id": "c34f9e5a-5df5-4d7e-99ec-b7253714b540",
   "metadata": {},
   "source": [
    "idlabel"
   ]
  },
  {
   "cell_type": "code",
   "execution_count": 29,
   "id": "400380a4-aa1f-4dd2-be63-6756450712db",
   "metadata": {},
   "outputs": [
    {
     "name": "stdout",
     "output_type": "stream",
     "text": [
      "root\n",
      " |-- id: string (nullable = true)\n",
      " |-- isfraud: boolean (nullable = true)\n",
      " |-- fraudpattern: string (nullable = true)\n",
      " |-- srcvalue: string (nullable = true)\n",
      " |-- srcfontstyle: string (nullable = true)\n",
      " |-- srcfontsize: string (nullable = true)\n",
      " |-- srcfontcolor: string (nullable = true)\n",
      " |-- srcbbox: string (nullable = true)\n",
      " |-- desvalue: string (nullable = true)\n",
      " |-- desfontstyle: string (nullable = true)\n",
      " |-- desfontsize: string (nullable = true)\n",
      " |-- desfontcolor: string (nullable = true)\n",
      " |-- desbbox: string (nullable = true)\n",
      " |-- srcname: string (nullable = true)\n",
      " |-- srcregionvalue: string (nullable = true)\n",
      " |-- srcregionfontstyle: string (nullable = true)\n",
      " |-- srcregionfontsize: string (nullable = true)\n",
      " |-- srcregionfontcolor: string (nullable = true)\n",
      " |-- srcregionbbox: string (nullable = true)\n",
      " |-- srcshift: string (nullable = true)\n",
      " |-- desname: string (nullable = true)\n",
      " |-- desregionvalue: string (nullable = true)\n",
      " |-- desregionfontstyle: string (nullable = true)\n",
      " |-- desregionfontsize: string (nullable = true)\n",
      " |-- desregionfontcolor: string (nullable = true)\n",
      " |-- desregionbbox: string (nullable = true)\n",
      " |-- desshift: string (nullable = true)\n",
      "\n"
     ]
    }
   ],
   "source": [
    "idlabel_schema = spark.sql(\"\"\"\n",
    "    SELECT * FROM idlabel LIMIT 0;\n",
    "\"\"\")\n",
    "idlabel_schema.printSchema()"
   ]
  },
  {
   "cell_type": "markdown",
   "id": "ee54aaef-e18d-451b-993d-fb9858129315",
   "metadata": {},
   "source": [
    "idmeta"
   ]
  },
  {
   "cell_type": "code",
   "execution_count": 30,
   "id": "e7a0af76-6692-459f-be5e-cfc949528381",
   "metadata": {},
   "outputs": [
    {
     "name": "stdout",
     "output_type": "stream",
     "text": [
      "root\n",
      " |-- id: string (nullable = true)\n",
      " |-- name: string (nullable = true)\n",
      " |-- address: string (nullable = true)\n",
      " |-- birthday: string (nullable = true)\n",
      " |-- gender: string (nullable = true)\n",
      " |-- ethnicity: string (nullable = true)\n",
      " |-- class: string (nullable = true)\n",
      " |-- issue_date: string (nullable = true)\n",
      " |-- expire_date: string (nullable = true)\n",
      " |-- height: string (nullable = true)\n",
      " |-- weight: string (nullable = true)\n",
      " |-- eye_color: string (nullable = true)\n",
      " |-- hair_color: string (nullable = true)\n",
      " |-- is_donor: string (nullable = true)\n",
      " |-- is_veteran: string (nullable = true)\n",
      " |-- license_number: string (nullable = true)\n",
      "\n"
     ]
    }
   ],
   "source": [
    "idmeta_schema = spark.sql(\"\"\"\n",
    "    SELECT * FROM idmeta LIMIT 0;\n",
    "\"\"\")\n",
    "idmeta_schema.printSchema()"
   ]
  },
  {
   "cell_type": "markdown",
   "id": "30a708d0-2b25-46b4-b861-8185e855c9ec",
   "metadata": {},
   "source": [
    "# SQL QUEREIS TO GET INSIGHTS FROM DATASETS"
   ]
  },
  {
   "cell_type": "markdown",
   "id": "9525426d-a739-41ce-b3b0-f4a675c77ff0",
   "metadata": {},
   "source": [
    "Total IDs and Predicted Fraud Percentage\n"
   ]
  },
  {
   "cell_type": "code",
   "execution_count": 32,
   "id": "d008f162-cc4c-4b2d-9c2c-a083345abfec",
   "metadata": {},
   "outputs": [
    {
     "ename": "AnalysisException",
     "evalue": "[UNRESOLVED_ROUTINE] Cannot resolve function `fraud_udf` on search path [`system`.`builtin`, `system`.`session`, `spark_catalog`.`default`].; line 4 pos 18",
     "output_type": "error",
     "traceback": [
      "\u001b[0;31m---------------------------------------------------------------------------\u001b[0m",
      "\u001b[0;31mAnalysisException\u001b[0m                         Traceback (most recent call last)",
      "Cell \u001b[0;32mIn[32], line 1\u001b[0m\n\u001b[0;32m----> 1\u001b[0m \u001b[43mspark\u001b[49m\u001b[38;5;241;43m.\u001b[39;49m\u001b[43msql\u001b[49m\u001b[43m(\u001b[49m\u001b[38;5;124;43m\"\"\"\u001b[39;49m\n\u001b[1;32m      2\u001b[0m \u001b[38;5;124;43mSELECT \u001b[39;49m\n\u001b[1;32m      3\u001b[0m \u001b[38;5;124;43m    COUNT(*) AS total_ids,\u001b[39;49m\n\u001b[1;32m      4\u001b[0m \u001b[38;5;124;43m    SUM(CASE WHEN fraud_udf(imageData) THEN 1 ELSE 0 END) AS fraud_predicted,\u001b[39;49m\n\u001b[1;32m      5\u001b[0m \u001b[38;5;124;43m    (SUM(CASE WHEN fraud_udf(imageData) THEN 1 ELSE 0 END) * 100.0) / COUNT(*) AS fraud_rate_percentage\u001b[39;49m\n\u001b[1;32m      6\u001b[0m \u001b[38;5;124;43mFROM idimage\u001b[39;49m\n\u001b[1;32m      7\u001b[0m \u001b[38;5;124;43m\"\"\"\u001b[39;49m\u001b[43m)\u001b[49m\u001b[38;5;241m.\u001b[39mshow()\n",
      "File \u001b[0;32m~/.local/lib/python3.12/site-packages/pyspark/sql/session.py:1631\u001b[0m, in \u001b[0;36mSparkSession.sql\u001b[0;34m(self, sqlQuery, args, **kwargs)\u001b[0m\n\u001b[1;32m   1627\u001b[0m         \u001b[38;5;28;01massert\u001b[39;00m \u001b[38;5;28mself\u001b[39m\u001b[38;5;241m.\u001b[39m_jvm \u001b[38;5;129;01mis\u001b[39;00m \u001b[38;5;129;01mnot\u001b[39;00m \u001b[38;5;28;01mNone\u001b[39;00m\n\u001b[1;32m   1628\u001b[0m         litArgs \u001b[38;5;241m=\u001b[39m \u001b[38;5;28mself\u001b[39m\u001b[38;5;241m.\u001b[39m_jvm\u001b[38;5;241m.\u001b[39mPythonUtils\u001b[38;5;241m.\u001b[39mtoArray(\n\u001b[1;32m   1629\u001b[0m             [_to_java_column(lit(v)) \u001b[38;5;28;01mfor\u001b[39;00m v \u001b[38;5;129;01min\u001b[39;00m (args \u001b[38;5;129;01mor\u001b[39;00m [])]\n\u001b[1;32m   1630\u001b[0m         )\n\u001b[0;32m-> 1631\u001b[0m     \u001b[38;5;28;01mreturn\u001b[39;00m DataFrame(\u001b[38;5;28;43mself\u001b[39;49m\u001b[38;5;241;43m.\u001b[39;49m\u001b[43m_jsparkSession\u001b[49m\u001b[38;5;241;43m.\u001b[39;49m\u001b[43msql\u001b[49m\u001b[43m(\u001b[49m\u001b[43msqlQuery\u001b[49m\u001b[43m,\u001b[49m\u001b[43m \u001b[49m\u001b[43mlitArgs\u001b[49m\u001b[43m)\u001b[49m, \u001b[38;5;28mself\u001b[39m)\n\u001b[1;32m   1632\u001b[0m \u001b[38;5;28;01mfinally\u001b[39;00m:\n\u001b[1;32m   1633\u001b[0m     \u001b[38;5;28;01mif\u001b[39;00m \u001b[38;5;28mlen\u001b[39m(kwargs) \u001b[38;5;241m>\u001b[39m \u001b[38;5;241m0\u001b[39m:\n",
      "File \u001b[0;32m~/.local/lib/python3.12/site-packages/py4j/java_gateway.py:1322\u001b[0m, in \u001b[0;36mJavaMember.__call__\u001b[0;34m(self, *args)\u001b[0m\n\u001b[1;32m   1316\u001b[0m command \u001b[38;5;241m=\u001b[39m proto\u001b[38;5;241m.\u001b[39mCALL_COMMAND_NAME \u001b[38;5;241m+\u001b[39m\\\n\u001b[1;32m   1317\u001b[0m     \u001b[38;5;28mself\u001b[39m\u001b[38;5;241m.\u001b[39mcommand_header \u001b[38;5;241m+\u001b[39m\\\n\u001b[1;32m   1318\u001b[0m     args_command \u001b[38;5;241m+\u001b[39m\\\n\u001b[1;32m   1319\u001b[0m     proto\u001b[38;5;241m.\u001b[39mEND_COMMAND_PART\n\u001b[1;32m   1321\u001b[0m answer \u001b[38;5;241m=\u001b[39m \u001b[38;5;28mself\u001b[39m\u001b[38;5;241m.\u001b[39mgateway_client\u001b[38;5;241m.\u001b[39msend_command(command)\n\u001b[0;32m-> 1322\u001b[0m return_value \u001b[38;5;241m=\u001b[39m \u001b[43mget_return_value\u001b[49m\u001b[43m(\u001b[49m\n\u001b[1;32m   1323\u001b[0m \u001b[43m    \u001b[49m\u001b[43manswer\u001b[49m\u001b[43m,\u001b[49m\u001b[43m \u001b[49m\u001b[38;5;28;43mself\u001b[39;49m\u001b[38;5;241;43m.\u001b[39;49m\u001b[43mgateway_client\u001b[49m\u001b[43m,\u001b[49m\u001b[43m \u001b[49m\u001b[38;5;28;43mself\u001b[39;49m\u001b[38;5;241;43m.\u001b[39;49m\u001b[43mtarget_id\u001b[49m\u001b[43m,\u001b[49m\u001b[43m \u001b[49m\u001b[38;5;28;43mself\u001b[39;49m\u001b[38;5;241;43m.\u001b[39;49m\u001b[43mname\u001b[49m\u001b[43m)\u001b[49m\n\u001b[1;32m   1325\u001b[0m \u001b[38;5;28;01mfor\u001b[39;00m temp_arg \u001b[38;5;129;01min\u001b[39;00m temp_args:\n\u001b[1;32m   1326\u001b[0m     \u001b[38;5;28;01mif\u001b[39;00m \u001b[38;5;28mhasattr\u001b[39m(temp_arg, \u001b[38;5;124m\"\u001b[39m\u001b[38;5;124m_detach\u001b[39m\u001b[38;5;124m\"\u001b[39m):\n",
      "File \u001b[0;32m~/.local/lib/python3.12/site-packages/pyspark/errors/exceptions/captured.py:185\u001b[0m, in \u001b[0;36mcapture_sql_exception.<locals>.deco\u001b[0;34m(*a, **kw)\u001b[0m\n\u001b[1;32m    181\u001b[0m converted \u001b[38;5;241m=\u001b[39m convert_exception(e\u001b[38;5;241m.\u001b[39mjava_exception)\n\u001b[1;32m    182\u001b[0m \u001b[38;5;28;01mif\u001b[39;00m \u001b[38;5;129;01mnot\u001b[39;00m \u001b[38;5;28misinstance\u001b[39m(converted, UnknownException):\n\u001b[1;32m    183\u001b[0m     \u001b[38;5;66;03m# Hide where the exception came from that shows a non-Pythonic\u001b[39;00m\n\u001b[1;32m    184\u001b[0m     \u001b[38;5;66;03m# JVM exception message.\u001b[39;00m\n\u001b[0;32m--> 185\u001b[0m     \u001b[38;5;28;01mraise\u001b[39;00m converted \u001b[38;5;28;01mfrom\u001b[39;00m\u001b[38;5;250m \u001b[39m\u001b[38;5;28;01mNone\u001b[39;00m\n\u001b[1;32m    186\u001b[0m \u001b[38;5;28;01melse\u001b[39;00m:\n\u001b[1;32m    187\u001b[0m     \u001b[38;5;28;01mraise\u001b[39;00m\n",
      "\u001b[0;31mAnalysisException\u001b[0m: [UNRESOLVED_ROUTINE] Cannot resolve function `fraud_udf` on search path [`system`.`builtin`, `system`.`session`, `spark_catalog`.`default`].; line 4 pos 18"
     ]
    }
   ],
   "source": [
    "spark.sql(\"\"\"\n",
    "SELECT \n",
    "    COUNT(*) AS total_ids,\n",
    "    SUM(CASE WHEN fraud_udf(imageData) THEN 1 ELSE 0 END) AS fraud_predicted,\n",
    "    (SUM(CASE WHEN fraud_udf(imageData) THEN 1 ELSE 0 END) * 100.0) / COUNT(*) AS fraud_rate_percentage\n",
    "FROM idimage\n",
    "\"\"\").show()"
   ]
  },
  {
   "cell_type": "code",
   "execution_count": null,
   "id": "60234bda-bd5c-4634-81d9-1ca38a614914",
   "metadata": {},
   "outputs": [],
   "source": []
  }
 ],
 "metadata": {
  "kernelspec": {
   "display_name": "Python 3 (ipykernel)",
   "language": "python",
   "name": "python3"
  },
  "language_info": {
   "codemirror_mode": {
    "name": "ipython",
    "version": 3
   },
   "file_extension": ".py",
   "mimetype": "text/x-python",
   "name": "python",
   "nbconvert_exporter": "python",
   "pygments_lexer": "ipython3",
   "version": "3.12.9"
  }
 },
 "nbformat": 4,
 "nbformat_minor": 5
}
